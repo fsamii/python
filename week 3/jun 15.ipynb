{
 "cells": [
  {
   "cell_type": "code",
   "execution_count": 37,
   "metadata": {},
   "outputs": [
    {
     "name": "stdout",
     "output_type": "stream",
     "text": [
      "<class 'list'>\n",
      "['apple', 'orange', 'banana']\n",
      "['1', '2', '3']\n",
      "Add strings and numbers :\n",
      "['apple', 'orange', 'banana', '1', '2', '3']\n"
     ]
    }
   ],
   "source": [
    "fruits = [\"apple\",\"orange\",\"banana\"] # a list of strings\n",
    "nums = [\"1\",\"2\",\"3\"]\n",
    "b = fruits + nums\n",
    "print(type(fruits))\n",
    "print(fruits)\n",
    "print(nums)\n",
    "print(\"Add strings and numbers :\")\n",
    "print (b)\n",
    "\n"
   ]
  },
  {
   "cell_type": "code",
   "execution_count": 33,
   "metadata": {},
   "outputs": [
    {
     "name": "stdout",
     "output_type": "stream",
     "text": [
      "[10, 20, 30, 40, 50, 60, 70, 80, 90]\n",
      "10\n",
      "90\n",
      "9\n"
     ]
    }
   ],
   "source": [
    "nums = list(range(10,100,10))\n",
    "print(nums)\n",
    "print(min(nums))\n",
    "print(max(nums))\n",
    "print(len(nums))"
   ]
  },
  {
   "cell_type": "code",
   "execution_count": 62,
   "metadata": {},
   "outputs": [
    {
     "name": "stdout",
     "output_type": "stream",
     "text": [
      "{'monday': 'practice', 'tuesday': 'practical example', 'wednesday': 'motivational lecture', 'thursday': 'tasks', 'friday': 'video lecture', 'saturday': 'sleeping', 'sunday': 'cricket'}\n",
      "<class 'dict'>\n"
     ]
    }
   ],
   "source": [
    "dic = {\"monday\":\"practice\",\"tuesday\":\"practical example\",\"wednesday\":\"motivational lecture\",\"thursday\":\"tasks\",\"friday\":\"video lecture\",\"saturday\":\"sleeping\",\"sunday\":\"cricket\"}\n",
    "print(dic)\n",
    "print(type(dic))"
   ]
  },
  {
   "cell_type": "code",
   "execution_count": null,
   "metadata": {},
   "outputs": [],
   "source": []
  }
 ],
 "metadata": {
  "kernelspec": {
   "display_name": "Python 3",
   "language": "python",
   "name": "python3"
  },
  "language_info": {
   "codemirror_mode": {
    "name": "ipython",
    "version": 3
   },
   "file_extension": ".py",
   "mimetype": "text/x-python",
   "name": "python",
   "nbconvert_exporter": "python",
   "pygments_lexer": "ipython3",
   "version": "3.7.4"
  }
 },
 "nbformat": 4,
 "nbformat_minor": 2
}
