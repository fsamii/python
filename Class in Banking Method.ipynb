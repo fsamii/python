{
 "cells": [
  {
   "cell_type": "code",
   "execution_count": 1,
   "metadata": {},
   "outputs": [],
   "source": [
    "class Bankaccount():\n",
    "    \n",
    "    def __init__(self):\n",
    "        self.__Accountnumber =\"\"\n",
    "        self.__Name = \"\"\n",
    "        self.__Balance = 0\n",
    "        self.__Pincode = \"\"\n",
    "        \n",
    "    # set and get function variable Accountnumber\n",
    "    \n",
    "    def setAccountnumber(self,a):\n",
    "        self.__Accountnumber = a\n",
    "    def getAccountnumber(self):\n",
    "        return self.__Accountnumber\n",
    "    \n",
    "    # set and get function variable Name\n",
    "    \n",
    "    def setName(self,n):\n",
    "        self.__Name = n\n",
    "    def getName(self):\n",
    "        return self.__Name\n",
    "    \n",
    "    # set and get function variable Balance\n",
    "    \n",
    "    def setBalance(self,b):\n",
    "        self.__Balance = b\n",
    "    def getBalance(self):\n",
    "        return self.__Balance\n",
    "    \n",
    "    # set and get function variable Pincode\n",
    "    \n",
    "    def setPincode(self,p):\n",
    "        self.__Pincode = p\n",
    "    def getPincode(self):\n",
    "        return self.__Pincode\n",
    "    \n",
    "    def deposit(self,Accountnumber,Pincode,amount):\n",
    "        if (self.__Accountnumber==Accountnumber and self.__Pincode==Pincode):\n",
    "            self.__Balance = self.__Balance+amount\n",
    "            print(\"Balance added successfully New balance\",self.__Balance)\n",
    "        else:\n",
    "            print(\"Wrong enter\")\n",
    "            \n",
    "    def Withdraw(self,Accountnumber,Pincode,amount):   #Function for withdrawl\n",
    "        if(self.__Accountnumber==Accountnumber and self.__Pincode==Pincode):\n",
    "            if self.__Balance > amount:\n",
    "                self.__Balance=self.__Balance-amount\n",
    "                print(\"Withdrawl is successful\")\n",
    "            else:\n",
    "                print(\"Withdrawl is not successful\")\n",
    "        else:\n",
    "            print(\"The enter account is incorrect\")\n",
    "            \n",
    "    def Display(self,Accountnumber,Pincode):\n",
    "        if self.__Accountnumber==Accountnumber and self.__Pincode==Pincode:\n",
    "            print(\"Accountnumber:\", self.__Accountnumber,\n",
    "                  \"Name:\", self.__Name,\n",
    "                  \"Pincode:\", self.__Pincode,\n",
    "                  \"Balance:\", self.__Balance)\n",
    "        else:\n",
    "            print(\"The enter Pincode is not correct\")\n",
    "            \n",
    "              "
   ]
  },
  {
   "cell_type": "code",
   "execution_count": 2,
   "metadata": {},
   "outputs": [
    {
     "name": "stdout",
     "output_type": "stream",
     "text": [
      "Balance added successfully New balance 15000\n",
      "Withdrawl is successful\n",
      "Accountnumber: 123456 Name: sami Pincode: 1234 Balance: 10000\n"
     ]
    }
   ],
   "source": [
    "BA = Bankaccount()\n",
    "BA.setAccountnumber(\"123456\")\n",
    "BA.setName(\"sami\")\n",
    "BA.setBalance(10000)\n",
    "BA.setPincode(\"1234\")\n",
    "BA.deposit(\"123456\",\"1234\",5000)\n",
    "BA.Withdraw(\"123456\",\"1234\",5000)\n",
    "BA.Display(\"123456\",\"1234\")"
   ]
  },
  {
   "cell_type": "code",
   "execution_count": 3,
   "metadata": {},
   "outputs": [
    {
     "name": "stdout",
     "output_type": "stream",
     "text": [
      "123456 sami 10000 1234\n"
     ]
    }
   ],
   "source": [
    "print(BA.getAccountnumber(),BA.getName(),BA.getBalance(),BA.getPincode())"
   ]
  },
  {
   "cell_type": "code",
   "execution_count": 4,
   "metadata": {},
   "outputs": [],
   "source": [
    "Objs = []"
   ]
  },
  {
   "cell_type": "code",
   "execution_count": 5,
   "metadata": {},
   "outputs": [],
   "source": [
    "Objs.append(BA)"
   ]
  },
  {
   "cell_type": "code",
   "execution_count": 6,
   "metadata": {},
   "outputs": [
    {
     "name": "stdout",
     "output_type": "stream",
     "text": [
      "Accountnumber: 123456 Name: sami Pincode: 1234 Balance: 10000\n"
     ]
    }
   ],
   "source": [
    "Objs[0].Display(\"123456\", \"1234\")"
   ]
  },
  {
   "cell_type": "code",
   "execution_count": 7,
   "metadata": {},
   "outputs": [],
   "source": [
    "Objs_list = []"
   ]
  },
  {
   "cell_type": "code",
   "execution_count": 8,
   "metadata": {},
   "outputs": [],
   "source": [
    "BA = Objs_list"
   ]
  },
  {
   "cell_type": "code",
   "execution_count": 9,
   "metadata": {},
   "outputs": [],
   "source": [
    "Objs_list = []"
   ]
  },
  {
   "cell_type": "code",
   "execution_count": null,
   "metadata": {},
   "outputs": [
    {
     "name": "stdout",
     "output_type": "stream",
     "text": [
      "1: To create/open account\n",
      "2: To Close bank account\n",
      "3: To Deposit money into your account\n",
      "4: To Withdraw money from your account\n",
      "5: To Display Account Detail\n",
      "6: Exit\n",
      "Enter the Number :1\n",
      "Enter your account number1234\n",
      "Enter your namesaa\n",
      "Enter your pincode1122\n",
      "Enter your balance300\n",
      "Account added successfully\n",
      "1: To create/open account\n",
      "2: To Close bank account\n",
      "3: To Deposit money into your account\n",
      "4: To Withdraw money from your account\n",
      "5: To Display Account Detail\n",
      "6: Exit\n",
      "Enter the Number :5\n",
      "Enter your account number:1234\n",
      "Enter your pincode:1122\n",
      "1: To create/open account\n",
      "2: To Close bank account\n",
      "3: To Deposit money into your account\n",
      "4: To Withdraw money from your account\n",
      "5: To Display Account Detail\n",
      "6: Exit\n"
     ]
    }
   ],
   "source": [
    "loop = True\n",
    "while loop:\n",
    "    print(\"1: To create/open account\")\n",
    "    print(\"2: To Close bank account\")\n",
    "    print(\"3: To Deposit money into your account\")\n",
    "    print(\"4: To Withdraw money from your account\")\n",
    "    print(\"5: To Display Account Detail\")\n",
    "    print(\"6: Exit\")\n",
    "    x = int(input(\"Enter the Number :\"))\n",
    "    if x == 1:\n",
    "        BA = Bankaccount()\n",
    "        Accountnumber = input(\"Enter your account number\")\n",
    "        Name = input(\"Enter your name\")\n",
    "        Pincode = input(\"Enter your pincode\")\n",
    "        Balance = input(\"Enter your balance\")\n",
    "        BA.setAccountnumber(Accountnumber)\n",
    "        BA.setName(Name)\n",
    "        BA.setPincode(Pincode)\n",
    "        BA.setBalance(Balance)\n",
    "        Objs_list.append(BA)\n",
    "        print(\"Account added successfully\")\n",
    "        \n",
    "    #Deleting/Closing Account \n",
    "    \n",
    "    elif x == 2:\n",
    "        Accountnumber = input(\"Enter your account number:\")\n",
    "        Pincode = int(input(\"Enter your pincode:\"))\n",
    "        for item in Objs_list:\n",
    "            if item.getAccountnumber() == Accountnumber and item.getPincode() == Pincode:\n",
    "                Objs_list.remove(item)\n",
    "                print(\"Delete Account Successfully\")\n",
    "                \n",
    "    #Deposit cash to account\n",
    "    \n",
    "    elif x == 3:\n",
    "        Accountnumber = input(\"Enter your Account number:\")\n",
    "        Pincode = int(input(\"Enter your pincode:\"))\n",
    "        for item in Objs_list:\n",
    "            if item.getAccountnumber() == Accountnumber and item.getPincode() == Pincode:\n",
    "                item = int(input(\"Enter your amount:\"))\n",
    "                item.deposit(Accountnumber,Pincode,amount)\n",
    "                \n",
    "    #Withdraw amount from account\n",
    "    \n",
    "    elif x == 4:\n",
    "        Accountnumber = input(\"Enter your account number:\")\n",
    "        Pincode = int(input(\"Enter your pincode:\"))\n",
    "        for item in Objs_list:\n",
    "            if item.getAccountnumber() == Accountnumber and item.getPincode() == Pincode:\n",
    "                item = int(input(\"Enter your amount:\"))\n",
    "                item.Withdraw(Accountnumber,Pincode,amount)\n",
    "                \n",
    "    #Display Account\n",
    "    \n",
    "    elif x == 5:\n",
    "        Accountnumber = input(\"Enter your account number:\")\n",
    "        Pincode = int(input(\"Enter your pincode:\"))\n",
    "       \n",
    "        for item in Objs_list:\n",
    "            if item.getAccountnumber() == Accountnumber and item.getPincode() == Pincode:\n",
    "                item.Display(Accountnumber,Pincode)\n",
    "                \n",
    "        #Finish the loop\n",
    "        \n",
    "    elif x == 6:\n",
    "        loop = False"
   ]
  },
  {
   "cell_type": "code",
   "execution_count": null,
   "metadata": {},
   "outputs": [],
   "source": []
  },
  {
   "cell_type": "code",
   "execution_count": null,
   "metadata": {},
   "outputs": [],
   "source": []
  },
  {
   "cell_type": "code",
   "execution_count": null,
   "metadata": {},
   "outputs": [],
   "source": []
  },
  {
   "cell_type": "code",
   "execution_count": null,
   "metadata": {},
   "outputs": [],
   "source": []
  },
  {
   "cell_type": "code",
   "execution_count": null,
   "metadata": {},
   "outputs": [],
   "source": []
  },
  {
   "cell_type": "code",
   "execution_count": null,
   "metadata": {},
   "outputs": [],
   "source": []
  },
  {
   "cell_type": "code",
   "execution_count": null,
   "metadata": {},
   "outputs": [],
   "source": []
  },
  {
   "cell_type": "code",
   "execution_count": null,
   "metadata": {},
   "outputs": [],
   "source": []
  },
  {
   "cell_type": "code",
   "execution_count": null,
   "metadata": {},
   "outputs": [],
   "source": []
  },
  {
   "cell_type": "code",
   "execution_count": null,
   "metadata": {},
   "outputs": [],
   "source": []
  },
  {
   "cell_type": "code",
   "execution_count": null,
   "metadata": {},
   "outputs": [],
   "source": []
  },
  {
   "cell_type": "code",
   "execution_count": null,
   "metadata": {},
   "outputs": [],
   "source": []
  },
  {
   "cell_type": "code",
   "execution_count": null,
   "metadata": {},
   "outputs": [],
   "source": []
  },
  {
   "cell_type": "code",
   "execution_count": null,
   "metadata": {},
   "outputs": [],
   "source": []
  },
  {
   "cell_type": "code",
   "execution_count": null,
   "metadata": {},
   "outputs": [],
   "source": []
  },
  {
   "cell_type": "code",
   "execution_count": null,
   "metadata": {},
   "outputs": [],
   "source": []
  },
  {
   "cell_type": "code",
   "execution_count": null,
   "metadata": {},
   "outputs": [],
   "source": []
  },
  {
   "cell_type": "code",
   "execution_count": null,
   "metadata": {},
   "outputs": [],
   "source": []
  },
  {
   "cell_type": "code",
   "execution_count": null,
   "metadata": {},
   "outputs": [],
   "source": []
  },
  {
   "cell_type": "code",
   "execution_count": null,
   "metadata": {},
   "outputs": [],
   "source": []
  },
  {
   "cell_type": "code",
   "execution_count": null,
   "metadata": {},
   "outputs": [],
   "source": [
    "\n"
   ]
  },
  {
   "cell_type": "code",
   "execution_count": null,
   "metadata": {},
   "outputs": [],
   "source": []
  },
  {
   "cell_type": "code",
   "execution_count": null,
   "metadata": {},
   "outputs": [],
   "source": []
  }
 ],
 "metadata": {
  "kernelspec": {
   "display_name": "Python 3",
   "language": "python",
   "name": "python3"
  },
  "language_info": {
   "codemirror_mode": {
    "name": "ipython",
    "version": 3
   },
   "file_extension": ".py",
   "mimetype": "text/x-python",
   "name": "python",
   "nbconvert_exporter": "python",
   "pygments_lexer": "ipython3",
   "version": "3.7.4"
  }
 },
 "nbformat": 4,
 "nbformat_minor": 2
}
