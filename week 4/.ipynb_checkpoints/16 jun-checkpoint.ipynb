{
 "cells": [
  {
   "cell_type": "markdown",
   "metadata": {},
   "source": [
    "#  Lists :"
   ]
  },
  {
   "cell_type": "code",
   "execution_count": 1,
   "metadata": {},
   "outputs": [
    {
     "name": "stdout",
     "output_type": "stream",
     "text": [
      "<class 'list'>\n",
      "['apple', 'orange', 'banana']\n"
     ]
    }
   ],
   "source": [
    "fruits = [\"apple\",\"orange\",\"banana\"] # a list of strings\n",
    "print(type(fruits))\n",
    "print(fruits)"
   ]
  },
  {
   "cell_type": "markdown",
   "metadata": {},
   "source": [
    "# Indexing a list :"
   ]
  },
  {
   "cell_type": "code",
   "execution_count": 23,
   "metadata": {},
   "outputs": [
    {
     "name": "stdout",
     "output_type": "stream",
     "text": [
      "<class 'list'>\n",
      "['apple', 'orange', 'tomato']\n"
     ]
    }
   ],
   "source": [
    "fruits = [\"apple\",\"orange\",\"banana\"]\n",
    "print(type(fruits))\n",
    "fruits[2]  ='tomato'\n",
    "print(fruits)"
   ]
  },
  {
   "cell_type": "code",
   "execution_count": 89,
   "metadata": {},
   "outputs": [
    {
     "name": "stdout",
     "output_type": "stream",
     "text": [
      "[3, 2, 5, 6, 7, 4, 8]\n"
     ]
    }
   ],
   "source": [
    "a =[3,2,2,5,3,6,7,4,5,8]\n",
    "b = []\n",
    "for i in a:\n",
    "    if i not in b:\n",
    "        b.append(i)\n",
    "        \n",
    "print(b)"
   ]
  },
  {
   "cell_type": "code",
   "execution_count": 62,
   "metadata": {},
   "outputs": [],
   "source": [
    "def sample1(a):\n",
    "    b = []\n",
    "    for i in a:\n",
    "        if i not in b:\n",
    "            b.append(i)\n",
    "    return b\n",
    "            "
   ]
  },
  {
   "cell_type": "code",
   "execution_count": null,
   "metadata": {},
   "outputs": [],
   "source": []
  },
  {
   "cell_type": "code",
   "execution_count": 60,
   "metadata": {},
   "outputs": [
    {
     "name": "stdout",
     "output_type": "stream",
     "text": [
      "[2, 3, 4, 5, 6, 7, 8]\n"
     ]
    }
   ],
   "source": [
    "a = [3,2,2,5,3,6,7,4,5,8]\n",
    "b = set(a)\n",
    "c = list(b)\n",
    "print(c)"
   ]
  },
  {
   "cell_type": "code",
   "execution_count": 61,
   "metadata": {},
   "outputs": [
    {
     "name": "stdout",
     "output_type": "stream",
     "text": [
      "[2, 3, 4, 5, 6, 7, 8]\n"
     ]
    }
   ],
   "source": [
    "print(list(set([3,2,2,5,3,6,7,4,5,8])))"
   ]
  },
  {
   "cell_type": "code",
   "execution_count": 75,
   "metadata": {},
   "outputs": [
    {
     "name": "stdout",
     "output_type": "stream",
     "text": [
      "<class 'list'>\n",
      "python\n"
     ]
    }
   ],
   "source": [
    "a = ['p','y','t','h','o','n']\n",
    "b = \"\"\n",
    "print(type(a))\n",
    "for x in a:\n",
    "    b = b + x\n",
    "    \n",
    "print(b)"
   ]
  },
  {
   "cell_type": "code",
   "execution_count": 81,
   "metadata": {},
   "outputs": [],
   "source": [
    "def freq(x):\n",
    "    a = [3,2,2,5,3,6,7,4,5,8,9,3,1,2,5,4]\n",
    "    count = 0\n",
    "    for i in a:\n",
    "        if x==i:\n",
    "            count = count + 1\n",
    "    return count\n"
   ]
  },
  {
   "cell_type": "code",
   "execution_count": 95,
   "metadata": {},
   "outputs": [
    {
     "data": {
      "text/plain": [
       "3"
      ]
     },
     "execution_count": 95,
     "metadata": {},
     "output_type": "execute_result"
    }
   ],
   "source": [
    "freq(2)"
   ]
  },
  {
   "cell_type": "code",
   "execution_count": 110,
   "metadata": {},
   "outputs": [],
   "source": [
    "a = [3,2,2,5,4,3,2]\n",
    "def sample(a):\n",
    "    b =[]\n",
    "    le = len(a)-1\n",
    "    while(le>=0):\n",
    "        b.append(a[le])\n",
    "        le = le-1\n",
    "    return b"
   ]
  },
  {
   "cell_type": "code",
   "execution_count": 111,
   "metadata": {},
   "outputs": [
    {
     "data": {
      "text/plain": [
       "[2, 3, 4, 5, 2, 2, 3]"
      ]
     },
     "execution_count": 111,
     "metadata": {},
     "output_type": "execute_result"
    }
   ],
   "source": [
    "sample(a)"
   ]
  },
  {
   "cell_type": "code",
   "execution_count": 112,
   "metadata": {},
   "outputs": [
    {
     "name": "stdout",
     "output_type": "stream",
     "text": [
      "[3, 2, 2, 5, 4, 3, 2]\n",
      "[2, 3, 4, 5, 2, 2, 3]\n"
     ]
    }
   ],
   "source": [
    "list = [3,2,2,5,4,3,2]\n",
    "print(list)\n",
    "list.reverse()\n",
    "print(list)\n"
   ]
  },
  {
   "cell_type": "code",
   "execution_count": 117,
   "metadata": {},
   "outputs": [
    {
     "name": "stdout",
     "output_type": "stream",
     "text": [
      "[25, 16, 9, 4, 9]\n"
     ]
    }
   ],
   "source": [
    "s = [5,4,3,2,3]\n",
    "y = []\n",
    "for i in s :\n",
    "    y.append(i**2)\n",
    "    \n",
    "print(y)"
   ]
  },
  {
   "cell_type": "code",
   "execution_count": 3,
   "metadata": {},
   "outputs": [
    {
     "name": "stdout",
     "output_type": "stream",
     "text": [
      "<class 'list'>\n",
      "[1, 2, 3.4, 5, 5, 3.3]\n"
     ]
    }
   ],
   "source": [
    "a = [1,2,3.4,5,5]\n",
    "print(type(a))\n",
    "a.append(3.3)\n",
    "print(a)"
   ]
  },
  {
   "cell_type": "code",
   "execution_count": 45,
   "metadata": {
    "scrolled": true
   },
   "outputs": [
    {
     "name": "stdout",
     "output_type": "stream",
     "text": [
      "{1: 'python', 2: 'C++', 3: 'C#', 4: 'Jawa', 5: 'Jawascript'}\n",
      "python\n",
      "C++\n",
      "C#\n",
      "Jawa\n",
      "Jawascript\n"
     ]
    }
   ],
   "source": [
    "dic ={1:\"python\",2:\"C++\",3:\"C#\",4:\"Jawa\",5:\"Jawascript\"}\n",
    "print(dic)\n",
    "for i in range (1,6):\n",
    "    print(dic[i])"
   ]
  },
  {
   "cell_type": "code",
   "execution_count": 68,
   "metadata": {},
   "outputs": [
    {
     "name": "stdout",
     "output_type": "stream",
     "text": [
      "[3, 4, 5, 2, 4]\n",
      "3\n",
      "12\n",
      "60\n",
      "120\n",
      "480\n"
     ]
    }
   ],
   "source": [
    "a = [3,4,5,2,4]\n",
    "print(a)\n",
    "sum = 1\n",
    "for i in a:\n",
    "    sum = sum*i\n",
    " \n",
    "    print(sum)\n",
    "    "
   ]
  },
  {
   "cell_type": "code",
   "execution_count": null,
   "metadata": {},
   "outputs": [],
   "source": [
    "def largest(l):\n",
    "    \n",
    "    return\n",
    "def smallest(s):\n",
    "    return\n",
    "    "
   ]
  },
  {
   "cell_type": "code",
   "execution_count": null,
   "metadata": {},
   "outputs": [],
   "source": []
  },
  {
   "cell_type": "markdown",
   "metadata": {},
   "source": [
    "# Class :"
   ]
  },
  {
   "cell_type": "code",
   "execution_count": 75,
   "metadata": {},
   "outputs": [],
   "source": [
    "class student:\n",
    "    def __init__(self,n,a):\n",
    "        self.full_name=n\n",
    "        self.age=a\n",
    "    def get_age(self):    # Method\n",
    "        return self.age"
   ]
  },
  {
   "cell_type": "code",
   "execution_count": 76,
   "metadata": {},
   "outputs": [],
   "source": [
    "a=student(\"sami\",25)"
   ]
  },
  {
   "cell_type": "code",
   "execution_count": 77,
   "metadata": {},
   "outputs": [
    {
     "data": {
      "text/plain": [
       "__main__.student"
      ]
     },
     "execution_count": 77,
     "metadata": {},
     "output_type": "execute_result"
    }
   ],
   "source": [
    "type(a)"
   ]
  },
  {
   "cell_type": "code",
   "execution_count": 79,
   "metadata": {},
   "outputs": [
    {
     "name": "stdout",
     "output_type": "stream",
     "text": [
      "sami\n"
     ]
    }
   ],
   "source": [
    "print(a.full_name)"
   ]
  },
  {
   "cell_type": "code",
   "execution_count": 80,
   "metadata": {},
   "outputs": [
    {
     "name": "stdout",
     "output_type": "stream",
     "text": [
      "25\n"
     ]
    }
   ],
   "source": [
    "print(a.age)"
   ]
  },
  {
   "cell_type": "code",
   "execution_count": 83,
   "metadata": {},
   "outputs": [
    {
     "name": "stdout",
     "output_type": "stream",
     "text": [
      "25\n"
     ]
    }
   ],
   "source": [
    "print(a.get_age())"
   ]
  },
  {
   "cell_type": "code",
   "execution_count": 149,
   "metadata": {},
   "outputs": [],
   "source": [
    "class student:\n",
    "    def __init__(self,n,a,d,u):\n",
    "        self.full_name=n\n",
    "        self.age=a\n",
    "        self.address=d\n",
    "        self.university=u\n",
    "    def location(self): # Method\n",
    "        print(\"My name is\",self.full_name,\"and The location is \",self.address,\"and i'm studying in\",self.university) "
   ]
  },
  {
   "cell_type": "code",
   "execution_count": 150,
   "metadata": {},
   "outputs": [],
   "source": [
    "b=student(\"Sami\",24,\"shami_road\",\"university\")"
   ]
  },
  {
   "cell_type": "code",
   "execution_count": 151,
   "metadata": {},
   "outputs": [
    {
     "data": {
      "text/plain": [
       "__main__.student"
      ]
     },
     "execution_count": 151,
     "metadata": {},
     "output_type": "execute_result"
    }
   ],
   "source": [
    "type(b)"
   ]
  },
  {
   "cell_type": "code",
   "execution_count": 152,
   "metadata": {},
   "outputs": [
    {
     "name": "stdout",
     "output_type": "stream",
     "text": [
      "My name is Sami and The location is  shami_road and i'm studying in university\n"
     ]
    }
   ],
   "source": [
    "b.location()"
   ]
  },
  {
   "cell_type": "code",
   "execution_count": 138,
   "metadata": {},
   "outputs": [
    {
     "data": {
      "text/plain": [
       "'Sami'"
      ]
     },
     "execution_count": 138,
     "metadata": {},
     "output_type": "execute_result"
    }
   ],
   "source": [
    "b.full_name"
   ]
  },
  {
   "cell_type": "code",
   "execution_count": 139,
   "metadata": {},
   "outputs": [
    {
     "data": {
      "text/plain": [
       "'shami_road'"
      ]
     },
     "execution_count": 139,
     "metadata": {},
     "output_type": "execute_result"
    }
   ],
   "source": [
    "b.address"
   ]
  },
  {
   "cell_type": "code",
   "execution_count": 3,
   "metadata": {},
   "outputs": [],
   "source": [
    "class student:\n",
    "    def __init__(self):\n",
    "        \n",
    "       \n",
    "        def self_name(self,n):\n",
    "            self.fullname=n"
   ]
  },
  {
   "cell_type": "code",
   "execution_count": 4,
   "metadata": {},
   "outputs": [
    {
     "ename": "TypeError",
     "evalue": "__init__() takes 1 positional argument but 2 were given",
     "output_type": "error",
     "traceback": [
      "\u001b[1;31m---------------------------------------------------------------------------\u001b[0m",
      "\u001b[1;31mTypeError\u001b[0m                                 Traceback (most recent call last)",
      "\u001b[1;32m<ipython-input-4-7f44685f020a>\u001b[0m in \u001b[0;36m<module>\u001b[1;34m\u001b[0m\n\u001b[1;32m----> 1\u001b[1;33m \u001b[0ma\u001b[0m\u001b[1;33m=\u001b[0m\u001b[0mstudent\u001b[0m\u001b[1;33m(\u001b[0m\u001b[1;34m\"sami\"\u001b[0m\u001b[1;33m)\u001b[0m\u001b[1;33m\u001b[0m\u001b[1;33m\u001b[0m\u001b[0m\n\u001b[0m",
      "\u001b[1;31mTypeError\u001b[0m: __init__() takes 1 positional argument but 2 were given"
     ]
    }
   ],
   "source": [
    "a=student(\"sami\")"
   ]
  },
  {
   "cell_type": "code",
   "execution_count": 43,
   "metadata": {},
   "outputs": [],
   "source": [
    "class Encapsulation(object):\n",
    "    def __init__(self,a,b,c):\n",
    "        self.public=a\n",
    "        self._protected=b\n",
    "        self.__private=c\n",
    "    def get_private(self):\n",
    "        return self.__private\n"
   ]
  },
  {
   "cell_type": "code",
   "execution_count": 45,
   "metadata": {},
   "outputs": [],
   "source": [
    "x=Encapsulation(11,13,17)"
   ]
  },
  {
   "cell_type": "code",
   "execution_count": 46,
   "metadata": {},
   "outputs": [
    {
     "name": "stdout",
     "output_type": "stream",
     "text": [
      "17\n"
     ]
    }
   ],
   "source": [
    "print(a.get_private())"
   ]
  },
  {
   "cell_type": "code",
   "execution_count": 40,
   "metadata": {},
   "outputs": [
    {
     "data": {
      "text/plain": [
       "11"
      ]
     },
     "execution_count": 40,
     "metadata": {},
     "output_type": "execute_result"
    }
   ],
   "source": [
    "x.public"
   ]
  },
  {
   "cell_type": "code",
   "execution_count": 41,
   "metadata": {},
   "outputs": [
    {
     "data": {
      "text/plain": [
       "13"
      ]
     },
     "execution_count": 41,
     "metadata": {},
     "output_type": "execute_result"
    }
   ],
   "source": [
    "x._protected"
   ]
  },
  {
   "cell_type": "code",
   "execution_count": 42,
   "metadata": {},
   "outputs": [
    {
     "ename": "AttributeError",
     "evalue": "'Encapsulation' object has no attribute '__private'",
     "output_type": "error",
     "traceback": [
      "\u001b[1;31m---------------------------------------------------------------------------\u001b[0m",
      "\u001b[1;31mAttributeError\u001b[0m                            Traceback (most recent call last)",
      "\u001b[1;32m<ipython-input-42-e25c4a25a2c7>\u001b[0m in \u001b[0;36m<module>\u001b[1;34m\u001b[0m\n\u001b[1;32m----> 1\u001b[1;33m \u001b[0mx\u001b[0m\u001b[1;33m.\u001b[0m\u001b[0m__private\u001b[0m\u001b[1;33m\u001b[0m\u001b[1;33m\u001b[0m\u001b[0m\n\u001b[0m",
      "\u001b[1;31mAttributeError\u001b[0m: 'Encapsulation' object has no attribute '__private'"
     ]
    }
   ],
   "source": [
    "x.__private\n"
   ]
  },
  {
   "cell_type": "markdown",
   "metadata": {},
   "source": [
    "# Encapsulation :"
   ]
  },
  {
   "cell_type": "code",
   "execution_count": 47,
   "metadata": {},
   "outputs": [],
   "source": [
    "class Encapsulation:\n",
    "    # Default costructor\n",
    "    \n",
    "    def __init__(self):\n",
    "        self.k = 0\n",
    "        self._m = 0\n",
    "        self.__n = 0\n",
    "        \n",
    "    # Set function\n",
    "    def set_k(self,a):\n",
    "        self.k = a\n",
    "    def set_m(self,a):\n",
    "        self._m = a\n",
    "    def set_n(self,a):\n",
    "        self.__n = a\n",
    "        \n",
    "    # Get functions\n",
    "    def get_k(self):\n",
    "        \n",
    "        \n",
    "    \n"
   ]
  },
  {
   "cell_type": "markdown",
   "metadata": {},
   "source": [
    "#  Inheritance :"
   ]
  },
  {
   "cell_type": "code",
   "execution_count": 44,
   "metadata": {},
   "outputs": [],
   "source": [
    "class Person(object):\n",
    "    \n",
    "    def __init__(self):\n",
    "        self.Name =\"\"\n",
    "        self.Age = 0\n",
    "        self.Cnic = \"\"\n",
    "        self.address = \"\"\n",
    "        self.mobilenumber = \"\"\n",
    "       # set and get function variable name\n",
    "    def setName(self,n):\n",
    "        self.Name = n\n",
    "    def getName(self):\n",
    "        return self.Name\n",
    "    \n",
    "       # set and get function variable age\n",
    "    def setAge(self,a):\n",
    "        self.Age = a\n",
    "    def getAge(self):\n",
    "        return self.Age\n",
    "    \n",
    "       # set and get function variable cnic\n",
    "    def setCnic(self,c):\n",
    "        self.Cnic = c\n",
    "    def getCnic(self):\n",
    "        return self.Cnic\n",
    "       # set and get function variable address\n",
    "    def setAddress(self,d):\n",
    "        self.address = d\n",
    "    def getAddress(self):\n",
    "        return self.address\n",
    "       # set and get function variable mobile number\n",
    "    def setMobilenumber(self,m):\n",
    "        self.mobilenumber = n\n",
    "    def getMobilenumber(self):\n",
    "        return self.mobilenumber   \n",
    "    \n",
    "        \n",
    "        "
   ]
  },
  {
   "cell_type": "code",
   "execution_count": 51,
   "metadata": {},
   "outputs": [],
   "source": [
    "class Employee(Person):\n",
    "    \n",
    "    def __init__(self):\n",
    "        self.Designation = \"\"\n",
    "        self.salary = \"\"\n",
    "        self.departement = \"\"\n",
    "        \n",
    "    # set and get function variable designation   \n",
    "    def setDesignation(self,x):\n",
    "        self.Designation = x\n",
    "    def getDesignation(self):\n",
    "        return self.Designation\n",
    "    \n",
    "    # set and get function variable Salary\n",
    "    def setSalary(self,y):\n",
    "        self.salary = y\n",
    "    def getSalary(self):\n",
    "        return self.salary\n",
    "    \n",
    "    # set and get function variable Deparement\n",
    "    def setDepartement(self,z):\n",
    "        self.departement = z\n",
    "    def getDepartement(self):\n",
    "        return self.departement\n",
    "        \n"
   ]
  },
  {
   "cell_type": "code",
   "execution_count": 52,
   "metadata": {},
   "outputs": [],
   "source": [
    "E = Employee()\n",
    "\n",
    "E.setName(\"sami\")\n",
    "E.setAge(24)\n",
    "E.setCnic(\"17301-1442435-9\")\n"
   ]
  },
  {
   "cell_type": "code",
   "execution_count": 53,
   "metadata": {},
   "outputs": [
    {
     "name": "stdout",
     "output_type": "stream",
     "text": [
      "sami 24 17301-1442435-9\n"
     ]
    }
   ],
   "source": [
    "print(E.Name,E.Age,E.Cnic)"
   ]
  },
  {
   "cell_type": "code",
   "execution_count": 54,
   "metadata": {},
   "outputs": [],
   "source": [
    "P = Person()\n",
    "\n",
    "P.setName(\"sami\")\n",
    "P.setAge(24)\n",
    "P.setCnic(\"17301-1442435-9\")\n"
   ]
  },
  {
   "cell_type": "code",
   "execution_count": 55,
   "metadata": {},
   "outputs": [
    {
     "name": "stdout",
     "output_type": "stream",
     "text": [
      "sami 24 17301-1442435-9\n"
     ]
    }
   ],
   "source": [
    "print(P.getName(),P.getAge(),P.getCnic())"
   ]
  },
  {
   "cell_type": "code",
   "execution_count": 56,
   "metadata": {},
   "outputs": [],
   "source": [
    "class student(person):\n",
    "    \n",
    "    def __init__(self):\n",
    "        self.RegistrationNumber = \"\"\n",
    "        self.Class = \"\"\n",
    "        self.Fee = \"\"\n",
    "            \n",
    "    # set and get function variable RegistrationNumber\n",
    "    def setRegistrationNumber(self,r):\n",
    "        self.RegistrationNumber = r\n",
    "    def getRegistrationNumber(self):\n",
    "        return self.RegistrationNumber\n",
    "    \n",
    "    # set and get function variable Class\n",
    "    def setClass(self,c):\n",
    "        self.Class = c\n",
    "    def getClass(self):\n",
    "        return self.Class\n",
    "    \n",
    "    # set and get function variable Fee\n",
    "    def setFee(self,f):\n",
    "        self.Fee = f\n",
    "    def getFee(self):\n",
    "        return self.Fee\n",
    "    \n",
    "    \n",
    "        "
   ]
  },
  {
   "cell_type": "code",
   "execution_count": 57,
   "metadata": {},
   "outputs": [],
   "source": [
    "S = student()\n",
    "S.setName(\"sami\")\n",
    "S.setAge(24)\n",
    "S.setCnic(\"17301-1442435-9\")\n",
    "S.setRegistrationNumber(\"12345678\")\n",
    "S.setClass(\"Msc Final year\")\n",
    "S.setFee(50000)\n"
   ]
  },
  {
   "cell_type": "code",
   "execution_count": 58,
   "metadata": {},
   "outputs": [
    {
     "name": "stdout",
     "output_type": "stream",
     "text": [
      "sami 24 17301-1442435-9 12345678 Msc Final year 50000\n"
     ]
    }
   ],
   "source": [
    "print(S.getName(),S.getAge(),S.getCnic(),S.getRegistrationNumber(),\n",
    "     S.getClass(),S.getFee())"
   ]
  },
  {
   "cell_type": "code",
   "execution_count": null,
   "metadata": {},
   "outputs": [],
   "source": []
  },
  {
   "cell_type": "code",
   "execution_count": 27,
   "metadata": {},
   "outputs": [],
   "source": [
    "class Vehicals(object):\n",
    "    \n",
    "    def __init__(self):\n",
    "        self.Nooftyres =\"\"\n",
    "        self.Noofseats = \"\"\n",
    "        self.Engine = \"\"\n",
    "        self.Maxspeed = \"\"\n",
    "        self.Enginetype = \"\"\n",
    "        \n",
    "       # set and get function variable No of tyres\n",
    "    \n",
    "    def setNooftyres(self,t):\n",
    "        self.Nooftyres = t\n",
    "    def getNooftyres(self):\n",
    "        return self.Nooftyres\n",
    "    \n",
    "     # set and get function variable No of of seats\n",
    "    \n",
    "    def setNoofseats(self,s):\n",
    "        self.Noofseats = s\n",
    "    def getNoofseats(self):\n",
    "        return self.Noofseats\n",
    "    \n",
    "     # set and get function variable No of Engine\n",
    "    \n",
    "    def setEngine(self,e):\n",
    "        self.Engine = e\n",
    "    def getEngine(self):\n",
    "        return self.Engine\n",
    "    \n",
    "     # set and get function variable Max speed\n",
    "    \n",
    "    def setMaxspeed(self,m):\n",
    "        self.Maxspeed = m\n",
    "    def getMaxspeed(self):\n",
    "        return self.Maxspeed\n",
    "    \n",
    "     # set and get function variable Engine type\n",
    "    \n",
    "    def setEnginetype(self,e):\n",
    "        self.Enginetype = e\n",
    "    def getEnginetype(self):\n",
    "        return self.Enginetype\n",
    "    \n"
   ]
  },
  {
   "cell_type": "code",
   "execution_count": 28,
   "metadata": {},
   "outputs": [],
   "source": [
    "V = Vehicals()\n",
    "\n",
    "V.setNooftyres(\"4\")\n",
    "V.setNoofseats(\"5\")\n",
    "V.setEngine(\"petrol\")\n",
    "V.setMaxspeed(\"250\")\n",
    "V.setEnginetype(\"petrol type\")\n"
   ]
  },
  {
   "cell_type": "code",
   "execution_count": 29,
   "metadata": {},
   "outputs": [
    {
     "name": "stdout",
     "output_type": "stream",
     "text": [
      "4 5 petrol 250 petrol type\n"
     ]
    }
   ],
   "source": [
    "print(V.getNooftyres(),V.getNoofseats(),V.getEngine(),\n",
    "      V.getMaxspeed(),V.getEnginetype())"
   ]
  },
  {
   "cell_type": "code",
   "execution_count": 33,
   "metadata": {},
   "outputs": [],
   "source": [
    "class Car(Vehicals):\n",
    "    \n",
    "    def __init__(self):\n",
    "        self.Company =\"\"\n",
    "        self.Aircondition = \"\"\n",
    "        self.Mileage = \"\"\n",
    "        self.FuelConsumption = \"\"\n",
    "        self.Geartype = \"\"\n",
    "        \n",
    "    # set and get function variable Company\n",
    "    \n",
    "    def setCompany(self,c):\n",
    "        self.Company = c\n",
    "    def getCompany(self):\n",
    "        return self.Company\n",
    "    \n",
    "    # set and get function variable Air condition\n",
    "    \n",
    "    def setAircondition(self,a):\n",
    "        self.Aircondition = a\n",
    "    def getAircondition(self):\n",
    "        return self.Aircondition\n",
    "    \n",
    "    # set and get function variable Mile age\n",
    "    \n",
    "    def setMileage(self,m):\n",
    "        self.Mileage = m\n",
    "    def getMileage(self):\n",
    "        return self.Mileage\n",
    "    \n",
    "    # set and get function variable Fuel consumption\n",
    "    \n",
    "    def setFuelconsumption(self,f):\n",
    "        self.Fuelconsumption = f\n",
    "    def getFuelconsumption(self):\n",
    "        return self.Fuelconsumption\n",
    "    \n",
    "    # set and get function variable Gear type\n",
    "    \n",
    "    def setGeartype(self,g):\n",
    "        self.Geartype = g\n",
    "    def getGeartype(self):\n",
    "        return self.Geartype\n",
    "    "
   ]
  },
  {
   "cell_type": "code",
   "execution_count": 35,
   "metadata": {},
   "outputs": [],
   "source": [
    "C = Car()\n",
    "\n",
    "C.setNooftyres(\"4\")\n",
    "C.setNoofseats(\"5\")\n",
    "C.setEngine(\"petrol\")\n",
    "C.setMaxspeed(\"250\")\n",
    "C.setEnginetype(\"petrol type\")\n",
    "C.setCompany(\"Honda\")\n",
    "C.setAircondition(\"Very good\")\n",
    "C.setMileage(\"20000\")\n",
    "C.setFuelconsumption(\"2 liter\")\n",
    "C.setGeartype(\"Automatic\")\n"
   ]
  },
  {
   "cell_type": "code",
   "execution_count": 37,
   "metadata": {},
   "outputs": [
    {
     "name": "stdout",
     "output_type": "stream",
     "text": [
      "4 5 petrol 250 petrol type Honda Very good 20000 2 liter Automatic\n"
     ]
    }
   ],
   "source": [
    "print(C.getNooftyres(),C.getNoofseats(),C.getEngine(),C.getMaxspeed(),\n",
    "      C.getEnginetype(),C.getCompany(),C.getAircondition(),\n",
    "      C.getMileage(),C.getFuelconsumption(),C.getGeartype())"
   ]
  },
  {
   "cell_type": "code",
   "execution_count": 15,
   "metadata": {},
   "outputs": [],
   "source": [
    "class Bankaccount():\n",
    "    \n",
    "    def __init__(self):\n",
    "        self.__Accountnumber =\"\"\n",
    "        self.__Name = \"\"\n",
    "        self.__Balance = \"\"\n",
    "        self.__Pincode = \"\"\n",
    "        \n",
    "    # set and get function variable Accountnumber\n",
    "    \n",
    "    def setAccountnumber(self,a):\n",
    "        self.Accountnumber = a\n",
    "    def getAccountnumber(self):\n",
    "        return self.Accountnumber\n",
    "    \n",
    "    # set and get function variable Name\n",
    "    \n",
    "    def setName(self,n):\n",
    "        self.Name = n\n",
    "    def getName(self):\n",
    "        return self.Name\n",
    "    \n",
    "    # set and get function variable Balance\n",
    "    \n",
    "    def setBalance(self,b):\n",
    "        self.Balance = b\n",
    "    def getBalance(self):\n",
    "        return self.Balance\n",
    "    \n",
    "    # set and get function variable Pincode\n",
    "    \n",
    "    def setPincode(self,p):\n",
    "        self.Pincode = p\n",
    "    def getPincode(self):\n",
    "        return self.Pincode\n",
    "    \n",
    "    \n",
    "    def Deposite(self.a):\n",
    "        if(Accountnumber)\n",
    "        \n",
    "        \n",
    "        "
   ]
  },
  {
   "cell_type": "code",
   "execution_count": 18,
   "metadata": {},
   "outputs": [],
   "source": [
    "BA = Bankaccount()\n",
    "BA.setAccountnumber(\"123456\")\n",
    "BA.setName(\"sami\")\n",
    "BA.setBalance(\"10000\")\n",
    "BA.setPincode(\"1234\")"
   ]
  },
  {
   "cell_type": "code",
   "execution_count": 19,
   "metadata": {},
   "outputs": [
    {
     "name": "stdout",
     "output_type": "stream",
     "text": [
      "123456 sami 10000 1234\n"
     ]
    }
   ],
   "source": [
    "print(BA.getAccountnumber(),BA.getName(),BA.getBalance(),BA.getPincode())"
   ]
  },
  {
   "cell_type": "code",
   "execution_count": null,
   "metadata": {},
   "outputs": [],
   "source": []
  },
  {
   "cell_type": "code",
   "execution_count": null,
   "metadata": {},
   "outputs": [],
   "source": [
    "\n",
    "        \n"
   ]
  },
  {
   "cell_type": "code",
   "execution_count": null,
   "metadata": {},
   "outputs": [],
   "source": []
  },
  {
   "cell_type": "code",
   "execution_count": null,
   "metadata": {},
   "outputs": [],
   "source": []
  },
  {
   "cell_type": "code",
   "execution_count": null,
   "metadata": {},
   "outputs": [],
   "source": []
  }
 ],
 "metadata": {
  "kernelspec": {
   "display_name": "Python 3",
   "language": "python",
   "name": "python3"
  },
  "language_info": {
   "codemirror_mode": {
    "name": "ipython",
    "version": 3
   },
   "file_extension": ".py",
   "mimetype": "text/x-python",
   "name": "python",
   "nbconvert_exporter": "python",
   "pygments_lexer": "ipython3",
   "version": "3.7.4"
  }
 },
 "nbformat": 4,
 "nbformat_minor": 2
}
